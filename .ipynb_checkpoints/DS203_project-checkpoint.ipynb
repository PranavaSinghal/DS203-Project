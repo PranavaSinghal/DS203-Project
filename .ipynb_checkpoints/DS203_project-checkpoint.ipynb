{
 "cells": [
  {
   "cell_type": "code",
   "execution_count": null,
   "id": "a90397c6",
   "metadata": {},
   "outputs": [],
   "source": [
    "Ncnsvnjsknv"
   ]
  }
 ],
 "metadata": {
  "interpreter": {
   "hash": "69cda2a9ab703a3dbaccf1fa74af0c3ab66c9a4810051adc02c4efe0b44fd148"
  },
  "kernelspec": {
   "display_name": "Python 3 (ipykernel)",
   "language": "python",
   "name": "python3"
  },
  "language_info": {
   "codemirror_mode": {
    "name": "ipython",
    "version": 3
   },
   "file_extension": ".py",
   "mimetype": "text/x-python",
   "name": "python",
   "nbconvert_exporter": "python",
   "pygments_lexer": "ipython3",
   "version": "3.9.6"
  }
 },
 "nbformat": 4,
 "nbformat_minor": 5
}
